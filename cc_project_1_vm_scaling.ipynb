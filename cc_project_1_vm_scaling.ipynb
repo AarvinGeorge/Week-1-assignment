{
  "nbformat": 4,
  "nbformat_minor": 0,
  "metadata": {
    "colab": {
      "provenance": [],
      "authorship_tag": "ABX9TyO5fv8igEl3x3SyK9C+23VV",
      "include_colab_link": true
    },
    "kernelspec": {
      "name": "python3",
      "display_name": "Python 3"
    },
    "language_info": {
      "name": "python"
    }
  },
  "cells": [
    {
      "cell_type": "markdown",
      "metadata": {
        "id": "view-in-github",
        "colab_type": "text"
      },
      "source": [
        "<a href=\"https://colab.research.google.com/github/AarvinGeorge/Week-1-assignment/blob/main/cc_project_1_vm_scaling.ipynb\" target=\"_parent\"><img src=\"https://colab.research.google.com/assets/colab-badge.svg\" alt=\"Open In Colab\"/></a>"
      ]
    },
    {
      "cell_type": "code",
      "execution_count": null,
      "metadata": {
        "id": "N_LIHGtv8lTN"
      },
      "outputs": [],
      "source": [
        "import boto3\n",
        "import botocore\n",
        "import requests\n",
        "import time\n",
        "import json\n",
        "import configparser\n",
        "import re\n",
        "from dateutil.parser import parse"
      ]
    },
    {
      "cell_type": "code",
      "source": [],
      "metadata": {
        "id": "xORTl2MeATAB"
      },
      "execution_count": null,
      "outputs": []
    }
  ]
}